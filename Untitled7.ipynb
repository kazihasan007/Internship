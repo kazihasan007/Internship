{
 "cells": [
  {
   "cell_type": "code",
   "execution_count": null,
   "id": "aacb12fa-b240-4eb5-bdf2-d68cd5229273",
   "metadata": {},
   "outputs": [],
   "source": [
    "1) Write a python program to display IMDB’s Top rated 100 Indian movies’ data \n",
    "https://www.imdb.com/list/ls056092300/ (i.e. name, rating, year ofrelease) and make data frame."
   ]
  },
  {
   "cell_type": "code",
   "execution_count": 4,
   "id": "a3c55ec2-bf8a-476b-98a1-7a36e8685772",
   "metadata": {
    "tags": []
   },
   "outputs": [
    {
     "name": "stdout",
     "output_type": "stream",
     "text": [
      "Requirement already satisfied: bs4 in c:\\users\\jqnonwoven\\anaconda3\\lib\\site-packages (0.0.2)\n",
      "Requirement already satisfied: beautifulsoup4 in c:\\users\\jqnonwoven\\anaconda3\\lib\\site-packages (from bs4) (4.12.2)\n",
      "Requirement already satisfied: soupsieve>1.2 in c:\\users\\jqnonwoven\\anaconda3\\lib\\site-packages (from beautifulsoup4->bs4) (2.4)\n",
      "Requirement already satisfied: requests in c:\\users\\jqnonwoven\\anaconda3\\lib\\site-packages (2.31.0)\n",
      "Requirement already satisfied: charset-normalizer<4,>=2 in c:\\users\\jqnonwoven\\anaconda3\\lib\\site-packages (from requests) (2.0.4)\n",
      "Requirement already satisfied: idna<4,>=2.5 in c:\\users\\jqnonwoven\\anaconda3\\lib\\site-packages (from requests) (3.4)\n",
      "Requirement already satisfied: urllib3<3,>=1.21.1 in c:\\users\\jqnonwoven\\anaconda3\\lib\\site-packages (from requests) (1.26.16)\n",
      "Requirement already satisfied: certifi>=2017.4.17 in c:\\users\\jqnonwoven\\anaconda3\\lib\\site-packages (from requests) (2024.7.4)\n"
     ]
    }
   ],
   "source": [
    "! pip install bs4\n",
    "! pip install requests"
   ]
  },
  {
   "cell_type": "code",
   "execution_count": 7,
   "id": "fcabffff-ffd8-4cc6-b1f0-c9fb36f6d244",
   "metadata": {
    "tags": []
   },
   "outputs": [],
   "source": [
    "import requests\n",
    "from bs4 import BeautifulSoup"
   ]
  },
  {
   "cell_type": "code",
   "execution_count": 48,
   "id": "d435454d-4bb5-4872-9c50-7d380a618bf3",
   "metadata": {
    "tags": []
   },
   "outputs": [
    {
     "data": {
      "text/plain": [
       "<Response [403]>"
      ]
     },
     "execution_count": 48,
     "metadata": {},
     "output_type": "execute_result"
    }
   ],
   "source": [
    "import pandas as pd\n",
    "url='https://www.imdb.com/list/ls056092300/'\n",
    "\n",
    "response = requests.get(url)\n",
    "response"
   ]
  },
  {
   "cell_type": "code",
   "execution_count": null,
   "id": "73090a7d-f610-49df-9ea8-6f9ce266ec30",
   "metadata": {},
   "outputs": [],
   "source": [
    "https://developer.mozilla.org/en-US/docs/Web/HTTP/Status/403"
   ]
  },
  {
   "cell_type": "code",
   "execution_count": null,
   "id": "da90f29d-4f4a-4a8e-9b75-436a3907a046",
   "metadata": {},
   "outputs": [],
   "source": [
    "2) Write a python program to scrape details of all the posts from https://www.patreon.com/coreyms .Scrape the \n",
    "heading, date, content and the likes for the video from the link for the youtube video from the post."
   ]
  },
  {
   "cell_type": "code",
   "execution_count": 1,
   "id": "9013e7b8-0346-46c5-b615-f7a394f11f04",
   "metadata": {
    "tags": []
   },
   "outputs": [
    {
     "name": "stdout",
     "output_type": "stream",
     "text": [
      "The history saving thread hit an unexpected error (OperationalError('database or disk is full')).History will not be written to the database.\n"
     ]
    }
   ],
   "source": [
    "import requests\n",
    "from bs4 import BeautifulSoup"
   ]
  },
  {
   "cell_type": "code",
   "execution_count": 15,
   "id": "63416bf3-1c20-41b2-96ce-c3bde2bbeee5",
   "metadata": {
    "tags": []
   },
   "outputs": [],
   "source": [
    "url='https://www.patreon.com/coreyms'\n",
    "headers ={\n",
    "    'User-Agent': 'Mozilla/5.0 (Windows NT 10.0; Win64; x64) AppleWebKit/537.36 (KHTML, like Gecko) Chrome/58.0.3029.110 Safari/537.3'}\n",
    "\n",
    "response = requests.get(url, headers=headers)\n",
    "\n",
    "if response.status_code == 200:\n",
    "    soup = BeautifulSoup(response.content, 'html.parser')\n",
    "\n",
    "    # Lists to store scraped data\n",
    "    post_headings = []\n",
    "    post_dates = []\n",
    "    post_contents = []\n",
    "    youtube_links = []\n",
    "    post_likes = []\n",
    "\n",
    "    posts = soup.find_all('div', class_='sc-1l1teq3-0')\n",
    "\n",
    "    for post in posts:\n",
    "        try:\n",
    "            heading = post.find('h2').text.strip()\n",
    "        except:\n",
    "            heading = \"No heading found\"\n",
    "        post_headings.append(heading)\n",
    "\n",
    "        try:\n",
    "            date = post.find('time').text.strip()\n",
    "        except:\n",
    "            date = \"No date found\"\n",
    "        post_dates.append(date)\n",
    "\n",
    "        try:\n",
    "            content = post.find('div', class_='sc-7eq1y9-0').text.strip()\n",
    "        except:\n",
    "            content = \"No content found\"\n",
    "        post_contents.append(content)\n",
    "\n",
    "        try:\n",
    "            youtube_link = post.find('a', href=True)\n",
    "            if \"youtube.com\" in youtube_link['href']:\n",
    "                youtube_links.append(youtube_link['href'])\n",
    "            else:\n",
    "                youtube_links.append(\"No YouTube link found\")\n",
    "        except:\n",
    "            youtube_links.append(\"No YouTube link found\")\n",
    "\n",
    "        try:\n",
    "            likes = post.find('span', class_='like-count').text.strip()\n",
    "        except:\n",
    "            likes = \"No likes found\"\n",
    "        post_likes.append(likes)\n",
    "\n",
    "    for i in range(len(post_headings)):\n",
    "        print(f\"Post {i+1}:\")\n",
    "        print(f\"Heading: {post_headings[i]}\")\n",
    "        print(f\"Date: {post_dates[i]}\")\n",
    "        print(f\"Content: {post_contents[i]}\")\n",
    "        print(f\"YouTube Link: {youtube_links[i]}\")\n",
    "        print(f\"Likes: {post_likes[i]}\")\n",
    "        print(\"-\" * 50)\n",
    "else:\n",
    "    print(f\"Failed to retrieve the page. Status code: {response.status_code}\")"
   ]
  },
  {
   "cell_type": "code",
   "execution_count": null,
   "id": "b0a5be09-15b9-4820-a4ec-e6ccb38c9df8",
   "metadata": {},
   "outputs": [],
   "source": [
    "3) Write a python program to scrape house details from mentioned URL. It should include house title, location, \n",
    "area, EMI and price from https://www.nobroker.in/ .Enter three localities which are Indira Nagar, Jayanagar, \n",
    "Rajaji Nagar. "
   ]
  },
  {
   "cell_type": "code",
   "execution_count": null,
   "id": "9ab3c978-d216-4cd9-8387-2e7454cda30f",
   "metadata": {},
   "outputs": [],
   "source": [
    "import requests\n",
    "from bs4 import BeautifulSoup\n",
    "import pandas as pd\n",
    "\n",
    "base_url = \"https://www.nobroker.in/property/rent/{locality}-bangalore?searchParam=W3sibGF0IjoxMi45NDUzNzE1LCJsb24iOjc3LjY1MDY4MiwicGxhY2VJZCI6IkNoSklKeXBnRk1pdUtqZ29EdklndnNiWTBZZyIsInBsYWNlTmFtZSI6IkJhbmdhbG9yZSJ9XQ==\"\n",
    "\n",
    "localities = ['Indira Nagar', 'Jayanagar', 'Rajaji Nagar']\n",
    "\n",
    "house_titles = []\n",
    "locations = []\n",
    "areas = []\n",
    "prices = []\n",
    "emis = []\n",
    "\n",
    "headers = {\n",
    "    'User-Agent': 'Mozilla/5.0 (Windows NT 10.0; Win64; x64) AppleWebKit/537.36 (KHTML, like Gecko) Chrome/85.0.4183.83 Safari/537.36'\n",
    "}\n",
    "\n",
    "for locality in localities:\n",
    "    url = base_url.format(locality=locality.replace(\" \", \"-\"))\n",
    "    \n",
    "    response = requests.get(url, headers=headers)\n",
    "    \n",
    "    if response.status_code == 200:\n",
    "        soup = BeautifulSoup(response.content, 'html.parser')\n",
    "        \n",
    "        properties = soup.find_all('div', class_='cardBody')\n",
    "        \n",
    "        for property in properties:\n",
    "        \n",
    "            try:\n",
    "                title = property.find('h2', class_='heading-6').text.strip()\n",
    "            except:\n",
    "                title = 'No title found'\n",
    "            house_titles.append(title)\n",
    "            \n",
    "            try:\n",
    "                location = property.find('div', class_='nb__2CMjv').text.strip()\n",
    "            except:\n",
    "                location = 'No location found'\n",
    "            locations.append(location)\n",
    "            \n",
    "            try:\n",
    "                area = property.find('div', class_='nb__2XbhS').text.strip()\n",
    "            except:\n",
    "                area = 'No area found'\n",
    "            areas.append(area)\n",
    "            \n",
    "            try:\n",
    "                price = property.find('div', class_='font-semi-bold').text.strip()\n",
    "            except:\n",
    "                price = 'No price found'\n",
    "            prices.append(price)\n",
    "            \n",
    "            try:\n",
    "                emi = property.find('div', class_='nb__2hNpz').text.strip()\n",
    "            except:\n",
    "                emi = 'No EMI found'\n",
    "            emis.append(emi)\n",
    "    else:\n",
    "        print(f\"Failed to retrieve data for {locality}. Status code: {response.status_code}\")\n",
    "\n",
    "df = pd.DataFrame({\n",
    "    'Title': house_titles,\n",
    "    'Location': locations,\n",
    "    'Area': areas,\n",
    "    'Price': prices,\n",
    "    'EMI': emis\n",
    "})\n",
    "\n",
    "print(df)\n",
    "df.to_csv('nobroker_house_details.csv', index=False)"
   ]
  },
  {
   "cell_type": "code",
   "execution_count": null,
   "id": "53526701-476f-4363-9226-0c88d3964765",
   "metadata": {},
   "outputs": [],
   "source": [
    "4) Write a python program to scrape first 10 product details which include product name , price , Image URL from \n",
    "https://www.bewakoof.com/bestseller?sort=popular . "
   ]
  },
  {
   "cell_type": "code",
   "execution_count": null,
   "id": "f65dbb22-bbca-4960-9156-b199a36b4d17",
   "metadata": {},
   "outputs": [],
   "source": [
    "import requests\n",
    "from bs4 import BeautifulSoup\n",
    "import pandas as pd\n",
    "\n",
    "url = \"https://www.bewakoof.com/bestseller?sort=popular\"\n",
    "\n",
    "headers = {\n",
    "    'User-Agent': 'Mozilla/5.0 (Windows NT 10.0; Win64; x64) AppleWebKit/537.36 (KHTML, like Gecko) Chrome/85.0.4183.121 Safari/537.36'\n",
    "}\n",
    "response = requests.get(url, headers=headers)\n",
    "\n",
    "if response.status_code == 200:\n",
    "    soup = BeautifulSoup(response.content, 'html.parser')\n",
    "\n",
    "    product_names = []\n",
    "    product_prices = []\n",
    "    image_urls = []\n",
    "\n",
    "    \n",
    "    products = soup.find_all('div', class_='productCardBox', limit=10)  \n",
    "\n",
    "    for product in products:\n",
    "        try:\n",
    "            name = product.find('h3').text.strip()\n",
    "        except:\n",
    "            name = \"No name found\"\n",
    "        product_names.append(name)\n",
    "\n",
    "        try:\n",
    "            price = product.find('span', class_='discountedPriceText').text.strip()\n",
    "        except:\n",
    "            price = \"No price found\"\n",
    "        product_prices.append(price)\n",
    "\n",
    "        try:\n",
    "            image_url = product.find('img')['src']\n",
    "        except:\n",
    "            image_url = \"No image found\"\n",
    "        image_urls.append(image_url)\n",
    "\n",
    "    df = pd.DataFrame({\n",
    "        'Product Name': product_names,\n",
    "        'Price': product_prices,\n",
    "        'Image URL': image_urls\n",
    "    })\n",
    "\n",
    "\n",
    "    print(df)\n",
    "\n",
    "    df.to_csv('bewakoof_product_details.csv', index=False)\n",
    "\n",
    "else:\n",
    "    print(f\"Failed to retrieve the page. Status code: {response.status_code}\")\n"
   ]
  },
  {
   "cell_type": "code",
   "execution_count": null,
   "id": "9b0fce0d-bb3b-477e-b22a-4194f4784eff",
   "metadata": {},
   "outputs": [],
   "source": [
    "5) Please visit https://www.cnbc.com/world/?region=world and scrap- \n",
    " a) headings \n",
    "b) date \n",
    "c) News link "
   ]
  },
  {
   "cell_type": "code",
   "execution_count": null,
   "id": "f51dd381-c529-43ab-8fbb-970aab5aed91",
   "metadata": {},
   "outputs": [],
   "source": [
    "import requests\n",
    "from bs4 import BeautifulSoup\n",
    "import pandas as pd\n",
    "\n",
    "url = \"https://www.cnbc.com/world/?region=world\"\n",
    "\n",
    "headers = {\n",
    "    'User-Agent': 'Mozilla/5.0 (Windows NT 10.0; Win64; x64) AppleWebKit/537.36 (KHTML, like Gecko) Chrome/85.0.4183.121 Safari/537.36'\n",
    "}\n",
    "response = requests.get(url, headers=headers)\n",
    "\n",
    "if response.status_code == 200:\n",
    "    \n",
    "    soup = BeautifulSoup(response.content, 'html.parser')\n",
    "\n",
    "    headlines = []\n",
    "    dates = []\n",
    "    news_links = []\n",
    "\n",
    "    \n",
    "    articles = soup.find_all('div', class_='LatestNews-container')\n",
    "\n",
    "    for article in articles:\n",
    "        # Scrape the headline (inside the 'a' tag)\n",
    "        try:\n",
    "            headline = article.find('a').text.strip()\n",
    "        except:\n",
    "            headline = \"No headline found\"\n",
    "        headlines.append(headline)\n",
    "\n",
    "        try:\n",
    "            date = article.find('time').text.strip()\n",
    "        except:\n",
    "            date = \"No date found\"\n",
    "        dates.append(date)\n",
    "\n",
    "        try:\n",
    "            news_link = article.find('a')['href']\n",
    "        except:\n",
    "            news_link = \"No link found\"\n",
    "        news_links.append(news_link)\n",
    "\n",
    "    df = pd.DataFrame({\n",
    "        'Headline': headlines,\n",
    "        'Date': dates,\n",
    "        'News Link': news_links\n",
    "    })\n",
    "\n",
    "    print(df)\n",
    "\n",
    "    df.to_csv('cnbc_news_details.csv', index=False)\n",
    "\n",
    "else:\n",
    "    print(f\"Failed to retrieve the page. Status code: {response.status_code}\")\n"
   ]
  },
  {
   "cell_type": "code",
   "execution_count": null,
   "id": "7052b21c-965d-48d5-a3ea-068cb38cefe7",
   "metadata": {},
   "outputs": [],
   "source": [
    "6) Please visit https://www.keaipublishing.com/en/journals/artificial-intelligence-in-agriculture/most-downloadedarticles/\n",
    " and scrapa)\n",
    " Paper title \n",
    " b) date \n",
    "c) Author "
   ]
  },
  {
   "cell_type": "code",
   "execution_count": null,
   "id": "7156219d-48bb-47ea-9b2c-09445fca8b7f",
   "metadata": {},
   "outputs": [],
   "source": [
    "import requests\n",
    "from bs4 import BeautifulSoup\n",
    "import pandas as pd\n",
    "\n",
    "url = \"https://www.keaipublishing.com/en/journals/artificial-intelligence-in-agriculture/most-downloaded-articles/\"\n",
    "\n",
    "headers = {\n",
    "    'User-Agent': 'Mozilla/5.0 (Windows NT 10.0; Win64; x64) AppleWebKit/537.36 (KHTML, like Gecko) Chrome/85.0.4183.121 Safari/537.36'\n",
    "}\n",
    "response = requests.get(url, headers=headers)\n",
    "\n",
    "if response.status_code == 200:\n",
    "    \n",
    "    soup = BeautifulSoup(response.content, 'html.parser')\n",
    "\n",
    "    paper_titles = []\n",
    "    authors = []\n",
    "    dates = []\n",
    "\n",
    "\n",
    "    articles = soup.find_all('div', class_='article-item')\n",
    "\n",
    "    for article in articles:\n",
    "\n",
    "        try:\n",
    "            title = article.find('h2').text.strip()\n",
    "        except:\n",
    "            title = \"No title found\"\n",
    "        paper_titles.append(title)\n",
    "\n",
    "        try:\n",
    "            author = article.find('p', class_='authors').text.strip()\n",
    "        except:\n",
    "            author = \"No author found\"\n",
    "        authors.append(author)\n",
    "\n",
    "        try:\n",
    "            date = article.find('p', class_='date').text.strip()\n",
    "        except:\n",
    "            date = \"No date found\"\n",
    "        dates.append(date)\n",
    "\n",
    "    df = pd.DataFrame({\n",
    "        'Paper Title': paper_titles,\n",
    "        'Authors': authors,\n",
    "        'Date': dates\n",
    "    })\n",
    "\n",
    "    print(df)\n",
    "\n",
    "    df.to_csv('ai_in_agriculture_most_downloaded_articles.csv', index=False)\n",
    "\n",
    "else:\n",
    "    print(f\"Failed to retrieve the page. Status code: {response.status_code}\")\n"
   ]
  },
  {
   "cell_type": "code",
   "execution_count": null,
   "id": "2054b79a-d2c8-41c8-877e-58f997d612fc",
   "metadata": {},
   "outputs": [],
   "source": []
  }
 ],
 "metadata": {
  "kernelspec": {
   "display_name": "Python 3 (ipykernel)",
   "language": "python",
   "name": "python3"
  },
  "language_info": {
   "codemirror_mode": {
    "name": "ipython",
    "version": 3
   },
   "file_extension": ".py",
   "mimetype": "text/x-python",
   "name": "python",
   "nbconvert_exporter": "python",
   "pygments_lexer": "ipython3",
   "version": "3.11.5"
  }
 },
 "nbformat": 4,
 "nbformat_minor": 5
}
