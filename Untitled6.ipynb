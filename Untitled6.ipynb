{
 "cells": [
  {
   "cell_type": "code",
   "execution_count": null,
   "id": "31f5828e",
   "metadata": {},
   "outputs": [],
   "source": [
    "Question 1- Write a Python program to replace all occurrences of a space, comma, or dot with a colon.\n",
    "Sample Text- 'Python Exercises, PHP exercises.'\n",
    "Expected Output: Python:Exercises::PHP:exercises:"
   ]
  },
  {
   "cell_type": "code",
   "execution_count": 1,
   "id": "413bc3d8",
   "metadata": {},
   "outputs": [
    {
     "name": "stdout",
     "output_type": "stream",
     "text": [
      "Python:Exercises:PHP:exercises:\n"
     ]
    }
   ],
   "source": [
    "import re\n",
    "text = 'Python Exercises, PHP exercises.'\n",
    "result = re.sub(r'[ ,.]+', ':', text)\n",
    "print(result)"
   ]
  },
  {
   "cell_type": "code",
   "execution_count": null,
   "id": "f78f7079",
   "metadata": {},
   "outputs": [],
   "source": [
    "Question 2-  Create a dataframe using the dictionary below and remove everything (commas (,), !, XXXX, ;, etc.) from the columns except words.\n",
    "Dictionary- {'SUMMARY' : ['hello, world!', 'XXXXX test', '123four, five:; six...']}\n",
    "Expected output-\n",
    "0      hello world\n",
    "1             test\n",
    "2    four five six"
   ]
  },
  {
   "cell_type": "code",
   "execution_count": 2,
   "id": "e69e8755",
   "metadata": {},
   "outputs": [
    {
     "name": "stdout",
     "output_type": "stream",
     "text": [
      "         SUMMARY\n",
      "0    hello world\n",
      "1           test\n",
      "2  four five six\n"
     ]
    }
   ],
   "source": [
    "import pandas as pd\n",
    "import re\n",
    "data = {'SUMMARY' : ['hello, world!', '      test', 'four, five:; six...']}\n",
    "df = pd.DataFrame(data)\n",
    "def clean_text(text):\n",
    "    return ' '.join(re.findall(r'\\b\\w+\\b', text))\n",
    "df['SUMMARY'] = df['SUMMARY'].apply(clean_text)\n",
    "print(df)"
   ]
  },
  {
   "cell_type": "code",
   "execution_count": null,
   "id": "a295f8d8",
   "metadata": {},
   "outputs": [],
   "source": [
    "Question 3- Create a function in python to find all words that are at least 4 characters long in a string. The use of the re.compile() method is mandatory."
   ]
  },
  {
   "cell_type": "code",
   "execution_count": 3,
   "id": "7120690c",
   "metadata": {},
   "outputs": [
    {
     "name": "stdout",
     "output_type": "stream",
     "text": [
      "['This', 'sample', 'sentence', 'with', 'some', 'long', 'words', 'like', 'Python', 'examples', 'more']\n"
     ]
    }
   ],
   "source": [
    "import re\n",
    "def find_long_words(text):\n",
    "    pattern = re.compile(r'\\b\\w{4,}\\b')\n",
    "    long_words = pattern.findall(text)\n",
    "    return long_words\n",
    "text = \"This is a sample sentence with some long words like Python, examples, and more.\"\n",
    "result = find_long_words(text)\n",
    "print(result)"
   ]
  },
  {
   "cell_type": "code",
   "execution_count": null,
   "id": "58c23b50",
   "metadata": {},
   "outputs": [],
   "source": [
    "Question 4- Create a function in python to find all three, four, and five character words in a string. The use of the re.compile() method is mandatory."
   ]
  },
  {
   "cell_type": "code",
   "execution_count": 4,
   "id": "59d6515e",
   "metadata": {},
   "outputs": [
    {
     "name": "stdout",
     "output_type": "stream",
     "text": [
      "['This', 'test', 'with', 'words', 'cat', 'dog', 'code', 'and', 'more']\n"
     ]
    }
   ],
   "source": [
    "import re\n",
    "def find_specific_length_words(text):\n",
    "    pattern = re.compile(r'\\b\\w{3,5}\\b')\n",
    "    specific_length_words = pattern.findall(text)\n",
    "    return specific_length_words\n",
    "text = \"This is a test sentence with words of different lengths: cat, dog, Python, code, and more.\"\n",
    "result = find_specific_length_words(text)\n",
    "print(result)"
   ]
  },
  {
   "cell_type": "code",
   "execution_count": null,
   "id": "a165d54c",
   "metadata": {},
   "outputs": [],
   "source": [
    "Question 5- Create a function in Python to remove the parenthesis in a list of strings. The use of the re.compile() method is mandatory.\n",
    "Sample Text: [\"example (.com)\", \"hr@fliprobo (.com)\", \"github (.com)\", \"Hello (Data Science World)\", \"Data (Scientist)\"]\n",
    "Expected Output:\n",
    "example.com\n",
    "hr@fliprobo.com\n",
    "github.com\n",
    "Hello Data Science World\n",
    "Data Scientist"
   ]
  },
  {
   "cell_type": "code",
   "execution_count": 7,
   "id": "b2c4611a",
   "metadata": {
    "tags": []
   },
   "outputs": [
    {
     "name": "stdout",
     "output_type": "stream",
     "text": [
      "example.com\n",
      "hr@fliprobo.com\n",
      "github.com\n",
      "Hello Data Science World\n",
      "Data Scientist\n"
     ]
    }
   ],
   "source": [
    "import re\n",
    "\n",
    "def remove_parentheses(strings):\n",
    "    resultant_list = []\n",
    "\n",
    "    for string in strings:\n",
    "        cleaned_string = re.sub(r'\\((.*?)\\)', r'\\1 ', string)\n",
    "\n",
    "        cleaned_string = ' '.join(cleaned_string.split())\n",
    "\n",
    "        resultant_list.append(cleaned_string)\n",
    "\n",
    "    return resultant_list\n",
    "\n",
    "input_text = [\"example(.com)\", \"hr@fliprobo(.com)\", \"github(.com)\",\n",
    "              \"Hello (Data Science World)\", \"Data (Scientist)\"]\n",
    "\n",
    "output = remove_parentheses(input_text)\n",
    "\n",
    "for item in output:\n",
    "    print(item)"
   ]
  },
  {
   "cell_type": "code",
   "execution_count": null,
   "id": "7a60b848",
   "metadata": {},
   "outputs": [],
   "source": [
    "Question 6- Write a python program to remove the parenthesis area from the text stored in the text file using Regular Expression.\n",
    "Sample Text: [\"example (.com)\", \"hr@fliprobo (.com)\", \"github (.com)\", \"Hello (Data Science World)\", \"Data (Scientist)\"]\n",
    "Expected Output: [\"example\", \"hr@fliprobo\", \"github\", \"Hello\", \"Data\"]\n",
    "Note- Store given sample text in the text file and then to remove the parenthesis area from the text.\n"
   ]
  },
  {
   "cell_type": "code",
   "execution_count": 9,
   "id": "a3845ac1-4358-4af2-95be-65cd9ef6af4e",
   "metadata": {
    "tags": []
   },
   "outputs": [
    {
     "name": "stdout",
     "output_type": "stream",
     "text": [
      "['example', 'hr@fliprobo', 'github', 'Hello', 'Data']\n"
     ]
    }
   ],
   "source": [
    "import re\n",
    "sample_text = [\"example (.com)\", \"hr@fliprobo (.com)\", \"github (.com)\", \"Hello (Data Science World)\", \"Data (Scientist)\"]\n",
    "file_path = 'sample_text.txt'\n",
    "with open(file_path, 'w') as file:\n",
    "    for line in sample_text:\n",
    "        file.write(line + '\\n')\n",
    "with open(file_path, 'r') as file:\n",
    "    content = file.readlines()\n",
    "pattern = re.compile(r'\\s*\\(.*?\\)\\s*')\n",
    "cleaned_content = [pattern.sub('', line).strip() for line in content]\n",
    "with open(file_path, 'w') as file:\n",
    "    for line in cleaned_content:\n",
    "        file.write(line + '\\n')\n",
    "print(cleaned_content)\n"
   ]
  },
  {
   "cell_type": "code",
   "execution_count": null,
   "id": "46766541-2541-4462-a9bf-622d03c6c3fd",
   "metadata": {},
   "outputs": [],
   "source": [
    "Question 7- Write a regular expression in Python to split a string into uppercase letters.\n",
    "Sample text: “ImportanceOfRegularExpressionsInPython”\n",
    "Expected Output: [‘Importance’, ‘Of’, ‘Regular’, ‘Expression’, ‘In’, ‘Python’]"
   ]
  },
  {
   "cell_type": "code",
   "execution_count": 13,
   "id": "6bc0e649-70bb-4802-bf6d-d4bc77ba93b2",
   "metadata": {
    "tags": []
   },
   "outputs": [
    {
     "name": "stdout",
     "output_type": "stream",
     "text": [
      "['', 'Importance', 'Of', 'Regular', 'Expressions', 'In', 'Python']\n"
     ]
    }
   ],
   "source": [
    "import re\n",
    "def split_uppercase_words(text):\n",
    "    pattern = re.compile(r'(?=[A-Z])')\n",
    "    words = pattern.split(text)\n",
    "    return words\n",
    "sample_text =\"ImportanceOfRegularExpressionsInPython\"\n",
    "result = split_uppercase_words(sample_text)\n",
    "print(result)"
   ]
  },
  {
   "cell_type": "code",
   "execution_count": null,
   "id": "54e6ac23-d58e-4d6e-b1ac-3cdabf1c3bec",
   "metadata": {},
   "outputs": [],
   "source": [
    "Question 8- Create a function in python to insert spaces between words starting with numbers.\n",
    "Sample Text: “RegularExpression1IsAn2ImportantTopic3InPython\"\n",
    "Expected Output: RegularExpression 1IsAn 2ImportantTopic 3InPython"
   ]
  },
  {
   "cell_type": "code",
   "execution_count": 15,
   "id": "07263bf9-f0db-4de4-b86f-0e5e614bd2db",
   "metadata": {
    "tags": []
   },
   "outputs": [
    {
     "name": "stdout",
     "output_type": "stream",
     "text": [
      "RegularExpression 1IsAn 2ImportantTopic 3InPython\n"
     ]
    }
   ],
   "source": [
    "import re\n",
    "def insert_spaces_before_numbers(text):\n",
    "    pattern = re.compile(r'(\\d)')\n",
    "    modified_text = pattern.sub(r' \\1', text)\n",
    "    return modified_text\n",
    "sample_text = \"RegularExpression1IsAn2ImportantTopic3InPython\"\n",
    "\n",
    "result = insert_spaces_before_numbers(sample_text)\n",
    "print(result)"
   ]
  },
  {
   "cell_type": "code",
   "execution_count": null,
   "id": "aa39a39d-534f-4745-a6d5-7aa7cef2fd64",
   "metadata": {},
   "outputs": [],
   "source": [
    "Question 9- Create a function in python to insert spaces between words starting with capital letters or with numbers.\n",
    "Sample Text: “RegularExpression1IsAn2ImportantTopic3InPython\"\n",
    "Expected Output:  RegularExpression 1 IsAn 2 ImportantTopic 3 InPython"
   ]
  },
  {
   "cell_type": "code",
   "execution_count": 17,
   "id": "ac5228e5-7135-4564-a47c-49986e85c55f",
   "metadata": {
    "tags": []
   },
   "outputs": [
    {
     "name": "stdout",
     "output_type": "stream",
     "text": [
      "Regular Expression 1 Is An 2 Important Topic 3 In Python\n"
     ]
    }
   ],
   "source": [
    "import re\n",
    "def insert_spaces_before_capitals_or_numbers(text):\n",
    "    pattern = re.compile(r'(?=[A-Z0-9])')\n",
    "    modified_text = pattern.sub(r' \\g<0>', text)\n",
    "    return modified_text.strip()\n",
    "sample_text = \"RegularExpression1IsAn2ImportantTopic3InPython\"\n",
    "result = insert_spaces_before_capitals_or_numbers(sample_text)\n",
    "print(result)"
   ]
  },
  {
   "cell_type": "code",
   "execution_count": null,
   "id": "dd4b47ba-e25b-4316-8764-2acc658947a2",
   "metadata": {},
   "outputs": [],
   "source": [
    "Question 10- Use the github link below to read the data and create a dataframe. After creating the dataframe extract the first 6 letters of each country and store in the dataframe under a new column called first_five_letters.\n",
    "Github Link-  https://raw.githubusercontent.com/dsrscientist/DSData/master/happiness_score_dataset.csv"
   ]
  },
  {
   "cell_type": "code",
   "execution_count": 19,
   "id": "5284520f-d810-4e9f-a341-258512741d17",
   "metadata": {
    "tags": []
   },
   "outputs": [
    {
     "name": "stdout",
     "output_type": "stream",
     "text": [
      "         Country first_six_letters\n",
      "0    Switzerland            Switze\n",
      "1        Iceland            Icelan\n",
      "2        Denmark            Denmar\n",
      "3         Norway            Norway\n",
      "4         Canada            Canada\n",
      "..           ...               ...\n",
      "153       Rwanda            Rwanda\n",
      "154        Benin             Benin\n",
      "155        Syria             Syria\n",
      "156      Burundi            Burund\n",
      "157         Togo              Togo\n",
      "\n",
      "[158 rows x 2 columns]\n"
     ]
    }
   ],
   "source": [
    "import pandas as pd\n",
    "url = 'https://raw.githubusercontent.com/dsrscientist/DSData/master/happiness_score_dataset.csv'\n",
    "df = pd.read_csv(url)\n",
    "df['first_six_letters'] = df['Country'].str[:6]\n",
    "print(df[['Country', 'first_six_letters']])"
   ]
  },
  {
   "cell_type": "code",
   "execution_count": null,
   "id": "f34c7410-9c45-4a53-9951-f675b0139365",
   "metadata": {},
   "outputs": [],
   "source": [
    "Question 11- Write a Python program to match a string that contains only upper and lowercase letters, numbers, and underscores."
   ]
  },
  {
   "cell_type": "code",
   "execution_count": 21,
   "id": "3c9bfbe8-f8f7-4943-80b3-08ce38a9db83",
   "metadata": {
    "tags": []
   },
   "outputs": [
    {
     "name": "stdout",
     "output_type": "stream",
     "text": [
      "True\n",
      "False\n"
     ]
    }
   ],
   "source": [
    "import re\n",
    "def match_string(text):\n",
    "    pattern = re.compile(r'^\\w+$')\n",
    "    if pattern.match(text):\n",
    "        return True\n",
    "    else:\n",
    "        return False\n",
    "test_string_1 = \"Valid_String_123\"\n",
    "test_string_2 = \"Invalid-String!\"\n",
    "print(match_string(test_string_1))  \n",
    "print(match_string(test_string_2))  \n"
   ]
  },
  {
   "cell_type": "code",
   "execution_count": null,
   "id": "3390d4eb-2376-4b0f-8766-e63f4b13d9b1",
   "metadata": {},
   "outputs": [],
   "source": [
    "Question 12- Write a Python program where a string will start with a specific number. "
   ]
  },
  {
   "cell_type": "code",
   "execution_count": 23,
   "id": "fa6d6e49-dbe2-4b42-9dd4-e8683a7413c4",
   "metadata": {
    "tags": []
   },
   "outputs": [
    {
     "name": "stdout",
     "output_type": "stream",
     "text": [
      "True\n",
      "False\n"
     ]
    }
   ],
   "source": [
    "import re\n",
    "def starts_with_number(text, number):\n",
    "    pattern = re.compile(r'^' + re.escape(str(number)))\n",
    "    if pattern.match(text):\n",
    "        return True\n",
    "    else:\n",
    "        return False\n",
    "\n",
    "test_string_1 = \"123abc\"\n",
    "test_string_2 = \"abc123\"\n",
    "number = 123\n",
    "\n",
    "print(starts_with_number(test_string_1, number))  \n",
    "print(starts_with_number(test_string_2, number))  "
   ]
  },
  {
   "cell_type": "code",
   "execution_count": null,
   "id": "d8885894-2b22-406e-98e2-679e723e9b6d",
   "metadata": {},
   "outputs": [],
   "source": [
    "Question 13- Write a Python program to remove leading zeros from an IP address"
   ]
  },
  {
   "cell_type": "code",
   "execution_count": 25,
   "id": "c6f569bb-e142-4ad9-a895-2fb1c93e4400",
   "metadata": {
    "tags": []
   },
   "outputs": [
    {
     "name": "stdout",
     "output_type": "stream",
     "text": [
      "192.168.1.1\n"
     ]
    }
   ],
   "source": [
    "import re\n",
    "def remove_leading_zeros(ip_address):\n",
    "    pattern = re.compile(r'\\b0+(\\d)')\n",
    "    modified_ip = pattern.sub(r'\\1', ip_address)\n",
    "    \n",
    "    return modified_ip\n",
    "ip_address = \"192.168.001.001\"\n",
    "cleaned_ip = remove_leading_zeros(ip_address)\n",
    "print(cleaned_ip)"
   ]
  },
  {
   "cell_type": "code",
   "execution_count": null,
   "id": "fdf39ae6-ff82-46ed-9591-e6a7cfddf437",
   "metadata": {},
   "outputs": [],
   "source": [
    "Question 14- Write a regular expression in python to match a date string in the form of Month name followed by day number and year stored in a text file."
   ]
  },
  {
   "cell_type": "code",
   "execution_count": 27,
   "id": "6b822f05-22c6-4dad-90cc-614bf975783b",
   "metadata": {
    "tags": []
   },
   "outputs": [
    {
     "name": "stdout",
     "output_type": "stream",
     "text": [
      "August 15th 1947\n"
     ]
    }
   ],
   "source": [
    "import re\n",
    "def extract_date_from_text(file_path):\n",
    "    with open(file_path, 'r') as file:\n",
    "        content = file.read()\n",
    "    pattern = re.compile(r'\\b([A-Z][a-z]+)\\s(\\d{1,2}(?:st|nd|rd|th)?)\\s(\\d{4})\\b')\n",
    "    match = pattern.search(content)\n",
    "\n",
    "    if match:\n",
    "        return match.group(0)\n",
    "    else:\n",
    "        return None\n",
    "file_path = 'sample_text.txt'\n",
    "sample_text = 'On August 15th 1947 that India was declared independent from British colonialism, and the reins of control were handed over to the leaders of the Country.'\n",
    "with open(file_path, 'w') as file:\n",
    "    file.write(sample_text)\n",
    "date_string = extract_date_from_text(file_path)\n",
    "print(date_string)  # Output: August 15th 1947\n"
   ]
  },
  {
   "cell_type": "code",
   "execution_count": null,
   "id": "4970e77a-a466-4cb3-94e5-6f9a9cb904ba",
   "metadata": {},
   "outputs": [],
   "source": [
    "Question 15- Write a Python program to search some literals strings in a string. \n",
    "Sample text : 'The quick brown fox jumps over the lazy dog.'\n",
    "Searched words : 'fox', 'dog', 'horse'"
   ]
  },
  {
   "cell_type": "code",
   "execution_count": 29,
   "id": "877eab93-7f50-4627-93e4-0e9f41a03359",
   "metadata": {
    "tags": []
   },
   "outputs": [
    {
     "name": "stdout",
     "output_type": "stream",
     "text": [
      "['fox', 'dog']\n"
     ]
    }
   ],
   "source": [
    "import re\n",
    "def search_literals(text, words):\n",
    "    pattern = re.compile(r'\\b(' + '|'.join(re.escape(word) for word in words) + r')\\b')\n",
    "    matches = pattern.findall(text)\n",
    "    return matches\n",
    "sample_text = 'The quick brown fox jumps over the lazy dog.'\n",
    "searched_words = ['fox', 'dog', 'horse']\n",
    "found_words = search_literals(sample_text, searched_words)\n",
    "print(found_words)"
   ]
  },
  {
   "cell_type": "code",
   "execution_count": null,
   "id": "06861e2b-a713-46e1-ae38-7f62f9f0d291",
   "metadata": {},
   "outputs": [],
   "source": [
    "Question 16- Write a Python program to search a literals string in a string and also find the location within the original string where the pattern occurs\n",
    "Sample text : 'The quick brown fox jumps over the lazy dog.'\n",
    "Searched words : 'fox'"
   ]
  },
  {
   "cell_type": "code",
   "execution_count": 33,
   "id": "d9dfb4e6-1c57-440d-a43b-d4e32dbb8413",
   "metadata": {
    "tags": []
   },
   "outputs": [
    {
     "name": "stdout",
     "output_type": "stream",
     "text": [
      "Found 'fox' at position 16 to 19\n"
     ]
    }
   ],
   "source": [
    "import re\n",
    "\n",
    "def search_literal_with_position(text, word):\n",
    "    pattern = re.compile(re.escape(word))\n",
    "    match = pattern.search(text)\n",
    "    \n",
    "    if match:\n",
    "        return {\n",
    "            'found_word': match.group(0), \n",
    "            'start_pos': match.start(), \n",
    "            'end_pos': match.end()\n",
    "        }\n",
    "    else:\n",
    "        return None\n",
    "sample_text = 'The quick brown fox jumps over the lazy dog.'\n",
    "searched_word = 'fox'\n",
    "result = search_literal_with_position(sample_text, searched_word)\n",
    "if result:\n",
    "    print(f\"Found '{result['found_word']}' at position {result['start_pos']} to {result['end_pos']}\")\n",
    "else:\n",
    "    print(\"Word not found.\")"
   ]
  },
  {
   "cell_type": "code",
   "execution_count": null,
   "id": "74d52c26-ef10-4e11-b72c-73cc1a72ffac",
   "metadata": {},
   "outputs": [],
   "source": [
    "Question 17- Write a Python program to find the substrings within a string.\n",
    "Sample text : 'Python exercises, PHP exercises, C# exercises'\n",
    "Pattern : 'exercises'."
   ]
  },
  {
   "cell_type": "code",
   "execution_count": 35,
   "id": "ba3e9a34-724b-48ba-8aa7-080da01072d6",
   "metadata": {
    "tags": []
   },
   "outputs": [
    {
     "name": "stdout",
     "output_type": "stream",
     "text": [
      "Found 'exercises' from position 7 to 16\n",
      "Found 'exercises' from position 22 to 31\n",
      "Found 'exercises' from position 36 to 45\n"
     ]
    }
   ],
   "source": [
    "import re\n",
    "\n",
    "def find_substrings(text, pattern):\n",
    "    compiled_pattern = re.compile(re.escape(pattern))\n",
    "    matches = [(match.start(), match.end()) for match in compiled_pattern.finditer(text)]\n",
    "    \n",
    "    return matches\n",
    "\n",
    "sample_text = 'Python exercises, PHP exercises, C# exercises'\n",
    "search_pattern = 'exercises'\n",
    "result = find_substrings(sample_text, search_pattern)\n",
    "\n",
    "for start, end in result:\n",
    "    print(f\"Found '{search_pattern}' from position {start} to {end}\")"
   ]
  },
  {
   "cell_type": "code",
   "execution_count": null,
   "id": "3f92380e-c8d8-4a1f-b331-b3a47f8aed8d",
   "metadata": {},
   "outputs": [],
   "source": [
    "Question 18- Write a Python program to find the occurrence and position of the substrings within a string."
   ]
  },
  {
   "cell_type": "code",
   "execution_count": 37,
   "id": "fa633923-1e28-4340-9117-772c267d0b00",
   "metadata": {
    "tags": []
   },
   "outputs": [
    {
     "name": "stdout",
     "output_type": "stream",
     "text": [
      "'exercises' found 3 times at positions:\n",
      "Start: 7, End: 16\n",
      "Start: 22, End: 31\n",
      "Start: 36, End: 45\n"
     ]
    }
   ],
   "source": [
    "import re\n",
    "def find_substring_occurrences(text, substring):\n",
    "    pattern = re.compile(re.escape(substring))\n",
    "    matches = [(match.start(), match.end()) for match in pattern.finditer(text)]\n",
    "    count = len(matches)\n",
    "    return count, matches\n",
    "sample_text = 'Python exercises, PHP exercises, C# exercises'\n",
    "search_substring = 'exercises'\n",
    "occurrence_count, positions = find_substring_occurrences(sample_text, search_substring)\n",
    "print(f\"'{search_substring}' found {occurrence_count} times at positions:\")\n",
    "for start, end in positions:\n",
    "    print(f\"Start: {start}, End: {end}\")"
   ]
  },
  {
   "cell_type": "code",
   "execution_count": null,
   "id": "27f3b577-a9b4-4e22-bbc8-ea0997908cf9",
   "metadata": {},
   "outputs": [],
   "source": [
    "Question 19- Write a Python program to convert a date of yyyy-mm-dd format to dd-mm-yyyy format."
   ]
  },
  {
   "cell_type": "code",
   "execution_count": 39,
   "id": "7893afaf-d2d2-4e77-890f-94c030a292ad",
   "metadata": {
    "tags": []
   },
   "outputs": [
    {
     "name": "stdout",
     "output_type": "stream",
     "text": [
      "18-08-2024\n"
     ]
    }
   ],
   "source": [
    "def convert_date_format(date_str):\n",
    "    year, month, day = date_str.split('-')\n",
    "    return f\"{day}-{month}-{year}\"\n",
    "date_input = \"2024-08-18\"\n",
    "converted_date = convert_date_format(date_input)\n",
    "print(converted_date)"
   ]
  },
  {
   "cell_type": "code",
   "execution_count": null,
   "id": "980d6928-5e87-4e33-a26f-7f5bf0638ce8",
   "metadata": {},
   "outputs": [],
   "source": [
    "Question 20- Create a function in python to find all decimal numbers with a precision of 1 or 2 in a string. The use of the re.compile() method is mandatory."
   ]
  },
  {
   "cell_type": "code",
   "execution_count": 41,
   "id": "32db4351-6763-474b-be3b-39b630099ded",
   "metadata": {
    "tags": []
   },
   "outputs": [
    {
     "name": "stdout",
     "output_type": "stream",
     "text": [
      "['01.12', '145.8', '3.01', '27.25', '0.25']\n"
     ]
    }
   ],
   "source": [
    "import re\n",
    "def find_decimal_numbers(text):\n",
    "    pattern = re.compile(r'\\b\\d+\\.\\d{1,2}\\b')\n",
    "    matches = pattern.findall(text)\n",
    "    return matches\n",
    "sample_text = \"01.12 0132.123 2.31875 145.8 3.01 27.25 0.25\"\n",
    "result = find_decimal_numbers(sample_text)\n",
    "print(result)"
   ]
  },
  {
   "cell_type": "code",
   "execution_count": null,
   "id": "cd381f17-b64b-4045-b22b-f8806135e92c",
   "metadata": {},
   "outputs": [],
   "source": [
    "Question 21- Write a Python program to separate and print the numbers and their position of a given string"
   ]
  },
  {
   "cell_type": "code",
   "execution_count": 43,
   "id": "3f5edfce-b278-4992-8efc-674f1ed4cab1",
   "metadata": {
    "tags": []
   },
   "outputs": [
    {
     "name": "stdout",
     "output_type": "stream",
     "text": [
      "Number: 123, Start Position: 20, End Position: 23\n",
      "Number: 45678, Start Position: 44, End Position: 49\n"
     ]
    }
   ],
   "source": [
    "import re\n",
    "def find_numbers_and_positions(text):\n",
    "    pattern = re.compile(r'\\d+')\n",
    "    matches = [(match.group(), match.start(), match.end()) for match in pattern.finditer(text)]\n",
    "    return matches\n",
    "\n",
    "sample_text = \"The house number is 123 and the zip code is 45678.\"\n",
    "result = find_numbers_and_positions(sample_text)\n",
    "for number, start, end in result:\n",
    "    print(f\"Number: {number}, Start Position: {start}, End Position: {end}\")"
   ]
  },
  {
   "cell_type": "code",
   "execution_count": null,
   "id": "6dbe1a97-2dfc-45d1-8b93-e476c8977465",
   "metadata": {},
   "outputs": [],
   "source": [
    "Question 22- Write a regular expression in python program to extract maximum/largest numeric value from a string.\n",
    "Sample Text:  'My marks in each semester are: 947, 896, 926, 524, 734, 950, 642'\n",
    "Expected Output: 950"
   ]
  },
  {
   "cell_type": "code",
   "execution_count": 45,
   "id": "dd01acb1-074d-4286-be31-baff37e2b428",
   "metadata": {
    "tags": []
   },
   "outputs": [
    {
     "name": "stdout",
     "output_type": "stream",
     "text": [
      "The largest numeric value is: 950\n"
     ]
    }
   ],
   "source": [
    "import re\n",
    "def extract_max_numeric_value(text):\n",
    "    pattern = re.compile(r'\\d+')\n",
    "    numbers = pattern.findall(text)\n",
    "    numbers = list(map(int, numbers))\n",
    "    if numbers:  # Ensure the list is not empty\n",
    "        return max(numbers)\n",
    "    else:\n",
    "        return None\n",
    "sample_text = 'My marks in each semester are: 947, 896, 926, 524, 734, 950, 642'\n",
    "max_value = extract_max_numeric_value(sample_text)\n",
    "print(f\"The largest numeric value is: {max_value}\")"
   ]
  },
  {
   "cell_type": "code",
   "execution_count": null,
   "id": "8918487e-a6c4-43bd-a502-36685db10e4b",
   "metadata": {},
   "outputs": [],
   "source": [
    "Question 23- Create a function in python to insert spaces between words starting with capital letters.\n",
    "Sample Text: “RegularExpressionIsAnImportantTopicInPython\"\n",
    "Expected Output: Regular Expression Is An Important Topic In Python"
   ]
  },
  {
   "cell_type": "code",
   "execution_count": 47,
   "id": "5a37a6ab-c920-4e50-9f84-6101175ee2c4",
   "metadata": {
    "tags": []
   },
   "outputs": [
    {
     "name": "stdout",
     "output_type": "stream",
     "text": [
      "Regular Expression Is An Important Topic In Python\n"
     ]
    }
   ],
   "source": [
    "import re\n",
    "def insert_spaces(text):\n",
    "    pattern = re.compile(r'(?<=[a-z])(?=[A-Z])|(?<=[A-Z])(?=[A-Z][a-z])')\n",
    "    spaced_text = pattern.sub(' ', text)\n",
    "    return spaced_text\n",
    "sample_text = \"RegularExpressionIsAnImportantTopicInPython\"\n",
    "result = insert_spaces(sample_text)\n",
    "print(result)"
   ]
  },
  {
   "cell_type": "code",
   "execution_count": null,
   "id": "244e9191-36de-4992-b03b-6a84251d2ea8",
   "metadata": {},
   "outputs": [],
   "source": [
    "Question 24- Python regex to find sequences of one upper case letter followed by lower case letters"
   ]
  },
  {
   "cell_type": "code",
   "execution_count": 49,
   "id": "893ebb66-e421-4173-bb73-aeccee8bb30d",
   "metadata": {
    "tags": []
   },
   "outputs": [
    {
     "name": "stdout",
     "output_type": "stream",
     "text": [
      "['Here', 'Python', 'Java']\n"
     ]
    }
   ],
   "source": [
    "import re\n",
    "\n",
    "def find_uppercase_followed_by_lowercase(text):\n",
    "    pattern = re.compile(r'\\b[A-Z][a-z]+\\b')\n",
    "    matches = pattern.findall(text)\n",
    "    return matches\n",
    "sample_text = 'Here are some examples: Python, JavaScript, CPlusPlus, and Java.'\n",
    "result = find_uppercase_followed_by_lowercase(sample_text)\n",
    "print(result)"
   ]
  },
  {
   "cell_type": "code",
   "execution_count": null,
   "id": "fbfcfed8-9909-4b25-9c16-a3e61c82e644",
   "metadata": {},
   "outputs": [],
   "source": [
    "Question 25- Write a Python program to remove continuous duplicate words from Sentence using Regular Expression.\n",
    "Sample Text: \"Hello hello world world\"\n",
    "Expected Output: Hello hello world"
   ]
  },
  {
   "cell_type": "code",
   "execution_count": 51,
   "id": "92ca41e6-b0b6-4175-9bb3-008be552862c",
   "metadata": {
    "tags": []
   },
   "outputs": [
    {
     "name": "stdout",
     "output_type": "stream",
     "text": [
      "Hello world\n"
     ]
    }
   ],
   "source": [
    "import re\n",
    "def remove_continuous_duplicates(sentence):\n",
    "    pattern = re.compile(r'\\b(\\w+)\\s+\\1\\b', re.IGNORECASE)\n",
    "    result = pattern.sub(r'\\1', sentence)\n",
    "    return result\n",
    "sample_text = \"Hello hello world world\"\n",
    "output = remove_continuous_duplicates(sample_text)\n",
    "print(output)"
   ]
  },
  {
   "cell_type": "code",
   "execution_count": null,
   "id": "68faeb11-486d-43ac-821a-1bb65143d055",
   "metadata": {},
   "outputs": [],
   "source": [
    "Question 26-  Write a python program using RegEx to accept string ending with alphanumeric character."
   ]
  },
  {
   "cell_type": "code",
   "execution_count": 53,
   "id": "67b54097-4237-4bfc-83b3-6d082ceeed43",
   "metadata": {
    "tags": []
   },
   "outputs": [
    {
     "name": "stdout",
     "output_type": "stream",
     "text": [
      "'Hello123' ends with an alphanumeric character: True\n",
      "'Python!' ends with an alphanumeric character: False\n",
      "'Code2024' ends with an alphanumeric character: True\n",
      "'Test@' ends with an alphanumeric character: False\n",
      "'ValidString123' ends with an alphanumeric character: True\n"
     ]
    }
   ],
   "source": [
    "import re\n",
    "def ends_with_alphanumeric(text):\n",
    "    pattern = re.compile(r'[a-zA-Z0-9]$')\n",
    "    return bool(pattern.search(text))\n",
    "test_strings = [\n",
    "    \"Hello123\",\n",
    "    \"Python!\",\n",
    "    \"Code2024\",\n",
    "    \"Test@\",\n",
    "    \"ValidString123\"\n",
    "]\n",
    "for string in test_strings:\n",
    "    result = ends_with_alphanumeric(string)\n",
    "    print(f\"'{string}' ends with an alphanumeric character: {result}\")"
   ]
  },
  {
   "cell_type": "code",
   "execution_count": null,
   "id": "eda0d81e-6f99-4e15-a35a-7ce27d791319",
   "metadata": {},
   "outputs": [],
   "source": [
    "Question 27-Write a python program using RegEx to extract the hashtags.\n",
    "Sample Text:  \"\"\"RT @kapil_kausik: #Doltiwal I mean #xyzabc is \"hurt\" by #Demonetization as the same has rendered USELESS <ed><U+00A0><U+00BD><ed><U+00B1><U+0089> \"acquired funds\" No wo\"\"\"\n",
    "Expected Output: ['#Doltiwal', '#xyzabc', '#Demonetization']"
   ]
  },
  {
   "cell_type": "code",
   "execution_count": 55,
   "id": "77a791d1-8ddc-4ce9-b2f1-b0ceee28a455",
   "metadata": {
    "tags": []
   },
   "outputs": [
    {
     "name": "stdout",
     "output_type": "stream",
     "text": [
      "['#Doltiwal', '#xyzabc', '#Demonetization']\n"
     ]
    }
   ],
   "source": [
    "import re\n",
    "def extract_hashtags(text):\n",
    "    pattern = re.compile(r'#\\w+')\n",
    "    hashtags = pattern.findall(text)\n",
    "    return hashtags\n",
    "sample_text = \"\"\"RT @kapil_kausik: #Doltiwal I mean #xyzabc is \"hurt\" by #Demonetization as the same has rendered USELESS <ed><U+00A0><U+00BD><ed><U+00B1><U+0089> \"acquired funds\" No wo\"\"\"\n",
    "hashtags = extract_hashtags(sample_text)\n",
    "print(hashtags)"
   ]
  },
  {
   "cell_type": "code",
   "execution_count": null,
   "id": "ce078303-9c0f-4dcb-b865-3a64a6a5c4cb",
   "metadata": {},
   "outputs": [],
   "source": [
    "Question 28- Write a python program using RegEx to remove <U+..> like symbols\n",
    "Check the below sample text, there are strange symbols something of the sort <U+..> all over the place. You need to come up with a general Regex expression that will cover all such symbols.\n",
    "Sample Text: \"@Jags123456 Bharat band on 28??<ed><U+00A0><U+00BD><ed><U+00B8><U+0082>Those who  are protesting #demonetization  are all different party leaders\"\n",
    "Expected Output: @Jags123456 Bharat band on 28??<ed><ed>Those who  are protesting #demonetization  are all different party leaders"
   ]
  },
  {
   "cell_type": "code",
   "execution_count": 57,
   "id": "94788de0-5345-437f-8a02-cac43d34e474",
   "metadata": {
    "tags": []
   },
   "outputs": [
    {
     "name": "stdout",
     "output_type": "stream",
     "text": [
      "@Jags123456 Bharat band on 28??<ed><ed>Those who  are protesting #demonetization  are all different party leaders\n"
     ]
    }
   ],
   "source": [
    "import re\n",
    "def remove_unicode_symbols(text):\n",
    "    pattern = re.compile(r'<U\\+[0-9A-Fa-f]{4}>')\n",
    "    cleaned_text = pattern.sub('', text)\n",
    "    return cleaned_text\n",
    "sample_text = \"@Jags123456 Bharat band on 28??<ed><U+00A0><U+00BD><ed><U+00B8><U+0082>Those who  are protesting #demonetization  are all different party leaders\"\n",
    "result = remove_unicode_symbols(sample_text)\n",
    "print(result)"
   ]
  },
  {
   "cell_type": "code",
   "execution_count": null,
   "id": "4eee0d94-ad20-4b06-8261-d808912c2b74",
   "metadata": {},
   "outputs": [],
   "source": [
    "Question 29- Write a python program to extract dates from the text stored in the text file.\n",
    "Sample Text: Ron was born on 12-09-1992 and he was admitted to school 15-12-1999.\n",
    "Note- Store this sample text in the file and then extract dates"
   ]
  },
  {
   "cell_type": "code",
   "execution_count": 65,
   "id": "0690b49e-8102-4e30-9081-c27c80d0ac0c",
   "metadata": {
    "tags": []
   },
   "outputs": [
    {
     "name": "stdout",
     "output_type": "stream",
     "text": [
      "['12-09-1992', '15-12-1999']\n"
     ]
    }
   ],
   "source": [
    "import re\n",
    "\n",
    "def extract_dates(filepath):\n",
    "    with open(filepath, 'r') as f:\n",
    "        content = f.read()\n",
    "    date_pattern = re.compile(r'\\b(\\d{2}-\\d{2}-\\d{4})\\b', flags=re.IGNORECASE)\n",
    "    \n",
    "    found_dates = date_pattern.findall(content)\n",
    "\n",
    "    return found_dates\n",
    "\n",
    "sample_text = \"Ron was born on 12-09-1992 and he was admitted to school 15-12-1999.\"\n",
    "with open('sample_text.txt', 'w') as f:\n",
    "    f.write(sample_text)\n",
    "\n",
    "dates = extract_dates('sample_text.txt')\n",
    "\n",
    "print(dates) \n"
   ]
  },
  {
   "cell_type": "code",
   "execution_count": null,
   "id": "71546f8c-0d0a-4435-93aa-b4733cb5e202",
   "metadata": {},
   "outputs": [],
   "source": [
    "Question 30- Create a function in python to remove all words from a string of length between 2 and 4.\n",
    "The use of the re.compile() method is mandatory.\n",
    "Sample Text: \"The following example creates an ArrayList with a capacity of 50 elements. 4 elements are then added to the ArrayList and the ArrayList is trimmed accordingly.\"\n",
    "Expected Output:  following example creates ArrayList a capacity elements. 4 elements added ArrayList ArrayList trimmed accordingly"
   ]
  },
  {
   "cell_type": "code",
   "execution_count": 67,
   "id": "9221a2f0-1c97-4c86-b032-1800073604a9",
   "metadata": {
    "tags": []
   },
   "outputs": [
    {
     "name": "stdout",
     "output_type": "stream",
     "text": [
      "following example creates ArrayList a capacity elements. 4 elements added ArrayList ArrayList trimmed accordingly.\n"
     ]
    }
   ],
   "source": [
    "import re\n",
    "def remove_short_words(text):\n",
    "    pattern = re.compile(r'\\b\\w{2,4}\\b')\n",
    "    result = pattern.sub('', text).strip()\n",
    "    result = re.sub(r'\\s+', ' ', result)\n",
    "    \n",
    "    return result\n",
    "\n",
    "sample_text = \"The following example creates an ArrayList with a capacity of 50 elements. 4 elements are then added to the ArrayList and the ArrayList is trimmed accordingly.\"\n",
    "\n",
    "output = remove_short_words(sample_text)\n",
    "print(output)"
   ]
  },
  {
   "cell_type": "code",
   "execution_count": null,
   "id": "21741866-cea6-44cf-9461-1ec071e571f0",
   "metadata": {},
   "outputs": [],
   "source": []
  }
 ],
 "metadata": {
  "kernelspec": {
   "display_name": "Python 3 (ipykernel)",
   "language": "python",
   "name": "python3"
  },
  "language_info": {
   "codemirror_mode": {
    "name": "ipython",
    "version": 3
   },
   "file_extension": ".py",
   "mimetype": "text/x-python",
   "name": "python",
   "nbconvert_exporter": "python",
   "pygments_lexer": "ipython3",
   "version": "3.11.5"
  }
 },
 "nbformat": 4,
 "nbformat_minor": 5
}
